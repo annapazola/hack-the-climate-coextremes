{
 "cells": [
  {
   "cell_type": "markdown",
   "metadata": {},
   "source": [
    "The following tool can be used to explore co-extremes of high wind with low temperature, as well as the locations of multiple UK-windfarms in three periods of time (2020-2030, 2030-2040, 2040-2050). We represent Chi on maps for different time-periods and also the difference in Chi, indicating ghow the co-dependence of these extremes will change over time, with climate change. "
   ]
  },
  {
   "cell_type": "code",
   "execution_count": 2,
   "metadata": {},
   "outputs": [
    {
     "name": "stdout",
     "output_type": "stream",
     "text": [
      "Running locally at: http://127.0.0.1:7867/\n",
      "To create a public link, set `share=True` in `launch()`.\n",
      "Interface loading below...\n"
     ]
    },
    {
     "data": {
      "text/html": [
       "\n",
       "        <iframe\n",
       "            width=\"900\"\n",
       "            height=\"500\"\n",
       "            src=\"http://127.0.0.1:7867/\"\n",
       "            frameborder=\"0\"\n",
       "            allowfullscreen\n",
       "        ></iframe>\n",
       "        "
      ],
      "text/plain": [
       "<IPython.lib.display.IFrame at 0x7fb007453700>"
      ]
     },
     "metadata": {},
     "output_type": "display_data"
    },
    {
     "data": {
      "text/plain": [
       "(<Flask 'gradio.networking'>, 'http://127.0.0.1:7867/', None)"
      ]
     },
     "execution_count": 2,
     "metadata": {},
     "output_type": "execute_result"
    },
    {
     "name": "stdout",
     "output_type": "stream",
     "text": [
      "Chi\n",
      "0\n",
      "Chi\n"
     ]
    }
   ],
   "source": [
    "import gradio as gr\n",
    "import pandas as pd\n",
    "import regex as re\n",
    "import matplotlib.pyplot as plt\n",
    "import numpy as np\n",
    "import matplotlib.image as mpimg\n",
    "#from geopy.geocoders import Nominatim\n",
    "#from geopy import distance\n",
    "\n",
    "\n",
    "description_text = \"\"\"The results present the co-dependence of climate variables. We study the event: occurrence of wind conditional to low temperature. The metric used Chi is defined in (Coles et al,2000). Chi represents the conditional probability of simultaneous extremes. We assess the variability of Chi under different future projections: [2020,2030] and [2050,2060]\"\"\"\n",
    "\n",
    "#img1=mpimg.imread('/Users/fionaspuler/Documents/GitHub/green_recovery/plots/map_hybrid_2020.png')\n",
    "img_1_chi_1='plots/ex1_chi_matrix_20201201_20301130.png'\n",
    "img_1_chi_2='plots/ex1_chi_matrix_20501201_20601130.png'\n",
    "\n",
    "img_2_chi_1='plots/ex2_chi_matrix_20201201_20301130.png'\n",
    "img_2_chi_2='plots/ex2_chi_matrix_20501201_20601130.png'\n",
    "\n",
    "img_1_chibar_1='plots/ex1_diff_chi_matrix_20201201_20301130.png'\n",
    "img_1_chibar_2='plots/ex1_diff_chi_matrix_20501201_20601130.png'\n",
    "\n",
    "img_2_chibar_1='plots/ex2_diff_chi_matrix_20201201_20301130.png'\n",
    "img_2_chibar_2='plots/ex2_diff_chi_matrix_20501201_20601130.png'\n",
    "\n",
    "\n",
    "\n",
    "def generate_info(period, windfarm, chi_type):\n",
    "    if chi_type == \"Chi\":\n",
    "        print(\"Chi\")\n",
    "        print(period)\n",
    "        if windfarm == 0:\n",
    "            if period == 0:\n",
    "                img = img_1_chi_1\n",
    "            else:\n",
    "                img = img_1_chi_2\n",
    "        else:\n",
    "            if period ==0:\n",
    "                img = img_2_chi_1\n",
    "            else:\n",
    "                img = img_2_chi_2\n",
    "    else:\n",
    "        print(\"Chi Difference\")\n",
    "        if windfarm == 0:\n",
    "            if period == 0:\n",
    "                img = img_1_chibar_1\n",
    "            else:\n",
    "                img = img_1_chibar_2\n",
    "        else:\n",
    "            if period ==0:\n",
    "                img = img_2_chibar_1\n",
    "            else:\n",
    "                img = img_2_chibar_2\n",
    "    print(chi_type)\n",
    "    return img\n",
    "\n",
    "iface = gr.Interface(\n",
    "    fn = generate_info, \n",
    "    inputs = [gr.inputs.Dropdown([\"2020-2030\", \"2050-2060\"], type=\"index\", label=\"Period\"), gr.inputs.Dropdown([\"Windfarm 1\", \"Windfarm 2\"], type=\"index\", label=\"Windfarm-location\"), gr.inputs.Radio([\"Chi\", \"Chi Difference\"], label=\"Chi-type\", type=\"value\")], \n",
    "    outputs = [gr.outputs.Image(type=\"file\")],\n",
    "    #interpretation = \"default\",\n",
    "    title = \"Temperature and Wind Co-Extremes\",\n",
    "    description = description_text\n",
    ")\n",
    "iface.launch()\n"
   ]
  },
  {
   "cell_type": "code",
   "execution_count": null,
   "metadata": {},
   "outputs": [],
   "source": []
  }
 ],
 "metadata": {
  "kernelspec": {
   "display_name": "Python 3",
   "language": "python",
   "name": "python3"
  },
  "language_info": {
   "codemirror_mode": {
    "name": "ipython",
    "version": 3
   },
   "file_extension": ".py",
   "mimetype": "text/x-python",
   "name": "python",
   "nbconvert_exporter": "python",
   "pygments_lexer": "ipython3",
   "version": "3.8.5"
  }
 },
 "nbformat": 4,
 "nbformat_minor": 4
}
