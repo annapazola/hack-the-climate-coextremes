{
 "cells": [
  {
   "cell_type": "code",
   "execution_count": 1,
   "metadata": {},
   "outputs": [
    {
     "name": "stdout",
     "output_type": "stream",
     "text": [
      "Running locally at: http://127.0.0.1:7861/\n",
      "To create a public link, set `share=True` in `launch()`.\n",
      "Interface loading below...\n"
     ]
    },
    {
     "data": {
      "text/html": [
       "\n",
       "        <iframe\n",
       "            width=\"900\"\n",
       "            height=\"500\"\n",
       "            src=\"http://127.0.0.1:7861/\"\n",
       "            frameborder=\"0\"\n",
       "            allowfullscreen\n",
       "        ></iframe>\n",
       "        "
      ],
      "text/plain": [
       "<IPython.lib.display.IFrame at 0x7fb0084d08e0>"
      ]
     },
     "metadata": {},
     "output_type": "display_data"
    },
    {
     "data": {
      "text/plain": [
       "(<Flask 'gradio.networking'>, 'http://127.0.0.1:7861/', None)"
      ]
     },
     "execution_count": 1,
     "metadata": {},
     "output_type": "execute_result"
    },
    {
     "name": "stdout",
     "output_type": "stream",
     "text": [
      "0\n",
      "Chi\n"
     ]
    }
   ],
   "source": [
    "import gradio as gr\n",
    "import pandas as pd\n",
    "import regex as re\n",
    "import matplotlib.pyplot as plt\n",
    "import numpy as np\n",
    "#from geopy.geocoders import Nominatim\n",
    "#from geopy import distance\n",
    "\n",
    "\n",
    "description_text = \"\"\"DESCRIPTION-TEXT\"\"\"\n",
    "\n",
    "\n",
    "\n",
    "\n",
    "def generate_info(windfarm, chi_type):\n",
    "    if chi_type == \"Chi\":\n",
    "        print(\"Chi\")\n",
    "    else:\n",
    "        print(\"Chibar\")\n",
    "    print(chi_type)\n",
    "    return \"asdf\"\n",
    "\n",
    "iface = gr.Interface(\n",
    "    fn = generate_info, \n",
    "    inputs = [gr.inputs.Dropdown([\"Windfarm 1\", \"Windfarm 2\"], type=\"index\", label=\"Windfarm-location\"), gr.inputs.Radio([\"Chi\", \"Chibar\"], label=\"Chi-type\", type=\"value\")], \n",
    "    outputs = \"text\", \n",
    "    #interpretation = \"default\",\n",
    "    title = \"Temperature and Wind Co-Extremes\",\n",
    "    description = description_text\n",
    ")\n",
    "iface.launch()\n"
   ]
  }
 ],
 "metadata": {
  "kernelspec": {
   "display_name": "Python 3",
   "language": "python",
   "name": "python3"
  },
  "language_info": {
   "codemirror_mode": {
    "name": "ipython",
    "version": 3
   },
   "file_extension": ".py",
   "mimetype": "text/x-python",
   "name": "python",
   "nbconvert_exporter": "python",
   "pygments_lexer": "ipython3",
   "version": "3.8.5"
  }
 },
 "nbformat": 4,
 "nbformat_minor": 4
}
