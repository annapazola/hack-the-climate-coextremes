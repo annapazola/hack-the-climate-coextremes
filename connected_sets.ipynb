{
 "cells": [
  {
   "cell_type": "code",
   "execution_count": 76,
   "metadata": {},
   "outputs": [],
   "source": [
    "import numpy as np\n",
    "import pandas as pd"
   ]
  },
  {
   "cell_type": "code",
   "execution_count": 77,
   "metadata": {},
   "outputs": [],
   "source": [
    "directory=\"/home/benjamin/PycharmProjects/UCL Hackathon/Hackathon/\"\n",
    "chi_files=[\"chi_vals_2020-12-01_2030-11-30.txt\",\"chi_vals_2030-12-01_2040-11-30.txt\",\"chi_vals_2040-12-01_2050-11-30.txt\"]\n",
    "mask_files=[\"land_mask_ind_2020-12-01_2030-11-30.txt\",\"land_mask_ind_2030-12-01_2040-11-30.txt\",\"land_mask_ind_2040-12-01_2050-11-30.txt\"]\n",
    "lat_files=[\"lat_coords_2020-12-01_2030-11-30.txt\",\"lat_coords_2030-12-01_2040-11-30.txt\",\"lat_coords_2040-12-01_2050-11-30.txt\"]\n",
    "lon_files=[\"lon_coords_2020-12-01_2030-11-30.txt\",\"lon_coords_2030-12-01_2040-11-30.txt\",\"lon_coords_2040-12-01_2050-11-30.txt\"]\n"
   ]
  },
  {
   "cell_type": "code",
   "execution_count": 78,
   "metadata": {},
   "outputs": [],
   "source": [
    "def string_toindex(string):\n",
    "    first_space_index=string.find(' ')\n",
    "    second_space_index=string.find(' ',first_space_index+1)\n",
    "    return int(string[0:first_space_index])-1, (int(string[first_space_index:second_space_index]),int(string[second_space_index:]))"
   ]
  },
  {
   "cell_type": "code",
   "execution_count": 79,
   "metadata": {},
   "outputs": [],
   "source": [
    "def load_chitwod(decade):\n",
    "    chi_values=np.loadtxt(directory+chi_files[decade])\n",
    "    df = pd.read_csv(directory+mask_files[decade], delimiter = \"\\t\")\n",
    "    landmass_index=df.to_numpy()\n",
    "    chi_twod=np.full((128,128,2064),-1,dtype='f8')\n",
    "    twod_indices=[]\n",
    "    for x in landmass_index:\n",
    "        x_oned_index, x_twod_index= string_toindex(x[0])\n",
    "        twod_indices.append(x_twod_index)\n",
    "        for k in range(len(chi_values)):\n",
    "        #    for y in landmass_index:\n",
    "        #        y_oned_index, y_twod_index= string_toindex(y[0])\n",
    "            chi_twod[x_twod_index+(k,)]=chi_values[x_oned_index,k]\n",
    "    return chi_twod, twod_indices"
   ]
  },
  {
   "cell_type": "code",
   "execution_count": 80,
   "metadata": {},
   "outputs": [],
   "source": [
    "import numpy as np\n",
    "from scipy.ndimage.measurements import label"
   ]
  },
  {
   "cell_type": "code",
   "execution_count": 81,
   "metadata": {},
   "outputs": [],
   "source": [
    "def size_connected_component(array, threshhold, centre_twod, diagonal_neighbourhood=False):\n",
    "    if diagonal_neighbourhood==True:\n",
    "        structure = np.ones((3, 3), dtype=np.int) \n",
    "    else:\n",
    "        structure = np.array([[0,1,0],[1,1,1],[0,1,0]])\n",
    "    boolean_array=(array>threshhold).astype(int)\n",
    "    labeled, ncomponents = label(boolean_array, structure)\n",
    "    label_centre=labeled[centre_twod]\n",
    "    return np.count_nonzero(labeled==label_centre)   "
   ]
  },
  {
   "cell_type": "code",
   "execution_count": 82,
   "metadata": {},
   "outputs": [],
   "source": [
    "def size_cc_chivalues(chi_twod,twod_indices,threshhold, centre, diagonal_neighbourhood=False):\n",
    "    array=chi_twod[:,:,centre]\n",
    "    centre_twod=twod_indices[centre]\n",
    "    return size_connected_component(array, threshhold, centre_twod, diagonal_neighbourhood)"
   ]
  },
  {
   "cell_type": "code",
   "execution_count": 83,
   "metadata": {},
   "outputs": [],
   "source": [
    "def size_cc_global(decade,thresshold, diagonal_neighbourhood=False):\n",
    "    chi_twod, twod_indices=load_chitwod(decade)\n",
    "    N=len(twod_indices)\n",
    "    all_cc_values=[size_cc_chivalues(chi_twod,twod_indices,thresshold, centre, diagonal_neighbourhood) for centre in range(N)]\n",
    "    return np.mean(all_cc_values)"
   ]
  },
  {
   "cell_type": "code",
   "execution_count": 110,
   "metadata": {},
   "outputs": [],
   "source": [
    "first_decade=size_cc_global(decade=0,thresshold=0.9)*144\n",
    "second_decade=size_cc_global(decade=1,thresshold=0.9)*144\n",
    "third_decade=size_cc_global(decade=2,thresshold=0.9)*144"
   ]
  },
  {
   "cell_type": "code",
   "execution_count": 88,
   "metadata": {},
   "outputs": [],
   "source": [
    "def conv_oned_tolatlong(decade,k):\n",
    "    twod_indices=[]\n",
    "    df = pd.read_csv(directory+mask_files[decade], delimiter = \"\\t\")\n",
    "    landmass_index=df.to_numpy()\n",
    "    for x in landmass_index:\n",
    "        x_oned_index, x_twod_index= string_toindex(x[0])\n",
    "        twod_indices.append(x_twod_index)\n",
    "    x,y =twod_indices[k]\n",
    "    lats=np.loadtxt(directory+lat_files[decade])\n",
    "    longs=np.loadtxt(directory+lon_files[decade])\n",
    "    lat=lats[x]\n",
    "    long=longs[y]\n",
    "    return lat, long"
   ]
  },
  {
   "cell_type": "code",
   "execution_count": 111,
   "metadata": {},
   "outputs": [
    {
     "name": "stdout",
     "output_type": "stream",
     "text": [
      "2452.813953488372\n",
      "2153.093023255814\n",
      "1796.7906976744187\n"
     ]
    }
   ],
   "source": [
    "print(first_decade)\n",
    "print(second_decade)\n",
    "print(third_decade)"
   ]
  },
  {
   "cell_type": "code",
   "execution_count": null,
   "metadata": {},
   "outputs": [],
   "source": []
  }
 ],
 "metadata": {
  "kernelspec": {
   "display_name": "Python 3",
   "language": "python",
   "name": "python3"
  },
  "language_info": {
   "codemirror_mode": {
    "name": "ipython",
    "version": 3
   },
   "file_extension": ".py",
   "mimetype": "text/x-python",
   "name": "python",
   "nbconvert_exporter": "python",
   "pygments_lexer": "ipython3",
   "version": "3.7.4"
  }
 },
 "nbformat": 4,
 "nbformat_minor": 2
}
