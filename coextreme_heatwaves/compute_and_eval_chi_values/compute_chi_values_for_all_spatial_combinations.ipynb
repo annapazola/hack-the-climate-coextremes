{
 "cells": [
  {
   "cell_type": "markdown",
   "metadata": {},
   "source": [
    "General setup:"
   ]
  },
  {
   "cell_type": "code",
   "execution_count": 1,
   "metadata": {},
   "outputs": [
    {
     "name": "stderr",
     "output_type": "stream",
     "text": [
      "Loading required package: Lmoments\n",
      "\n",
      "Loading required package: distillery\n",
      "\n",
      "\n",
      "Attaching package: ‘extRemes’\n",
      "\n",
      "\n",
      "The following objects are masked from ‘package:stats’:\n",
      "\n",
      "    qqnorm, qqplot\n",
      "\n",
      "\n",
      "Loading required package: spam\n",
      "\n",
      "Loading required package: dotCall64\n",
      "\n",
      "Loading required package: grid\n",
      "\n",
      "Spam version 2.6-0 (2020-12-14) is loaded.\n",
      "Type 'help( Spam)' or 'demo( spam)' for a short introduction \n",
      "and overview of this package.\n",
      "Help for individual functions is also obtained by adding the\n",
      "suffix '.spam' to the function name, e.g. 'help( chol.spam)'.\n",
      "\n",
      "\n",
      "Attaching package: ‘spam’\n",
      "\n",
      "\n",
      "The following objects are masked from ‘package:base’:\n",
      "\n",
      "    backsolve, forwardsolve\n",
      "\n",
      "\n",
      "Loading required package: viridis\n",
      "\n",
      "Loading required package: viridisLite\n",
      "\n",
      "See https://github.com/NCAR/Fields for\n",
      " an extensive vignette, other supplements and source code \n",
      "\n",
      "Loading required package: sp\n",
      "\n",
      "Warning message:\n",
      "“package ‘sp’ was built under R version 4.0.3”\n",
      "rgdal: version: 1.5-16, (SVN revision 1050)\n",
      "Geospatial Data Abstraction Library extensions to R successfully loaded\n",
      "Loaded GDAL runtime: GDAL 3.1.4, released 2020/10/20\n",
      "Path to GDAL shared files: /shared/groups/jrole001/geog0121/envs/jupyter_japsy/share/gdal\n",
      "GDAL binary built with GEOS: TRUE \n",
      "Loaded PROJ runtime: Rel. 7.1.1, September 1st, 2020, [PJ_VERSION: 711]\n",
      "Path to PROJ shared files: /shared/groups/jrole001/geog0121/envs/jupyter_japsy/share/proj\n",
      "PROJ CDN enabled: TRUE\n",
      "Linking to sp version:1.4-2\n",
      "To mute warnings of possible GDAL/OSR exportToProj4() degradation,\n",
      "use options(\"rgdal_show_exportToProj4_warnings\"=\"none\") before loading rgdal.\n",
      "\n"
     ]
    }
   ],
   "source": [
    "library(\"extRemes\")\n",
    "library(ncdf4)                  # needed to read netcdf data\n",
    "library(ncdf4.helpers)          # additional support functions for netcdf data\n",
    "library(fields)                 # provides image.plot()\n",
    "library(rgdal)                  # load shapefiles\n",
    "\n",
    "setwd(\"~/UKCP18/ukcp-other/extremal-dependence-data/\")"
   ]
  },
  {
   "cell_type": "code",
   "execution_count": 2,
   "metadata": {},
   "outputs": [],
   "source": [
    "nc2 <- nc_open(\"land-sea_mask_uk_12km-rll.nc\")\n",
    "land_mask <- ncvar_get(nc2)\n",
    "land_mask_ind <- which(!is.na(land_mask), arr.ind=T)\n",
    "#View(land_mask_ind)"
   ]
  },
  {
   "cell_type": "code",
   "execution_count": 3,
   "metadata": {},
   "outputs": [],
   "source": [
    "CHI_CUTOFF = 0.95\n",
    "CHI_TYPE = \"chi\""
   ]
  },
  {
   "cell_type": "markdown",
   "metadata": {},
   "source": [
    "Helper-functions:"
   ]
  },
  {
   "cell_type": "code",
   "execution_count": 4,
   "metadata": {},
   "outputs": [],
   "source": [
    "get_loc_lat_ids_from_coords <- function(lon, lat){\n",
    "    c(which(dimnames(tasmax)$rlon == lon), which(dimnames(tasmax)$rlat == lat))\n",
    "}\n",
    "\n",
    "get_nearest_date_idx <- function(date){\n",
    "     \n",
    "    date = as.Date(date, format = \"%Y-%m-%d\")\n",
    "    \n",
    "    if(format(date, \"%d\") == \"31\"){\n",
    "        date = as.Date(paste0(format(date, \"%Y-%m\"), \"-30\"))\n",
    "    }\n",
    "    return(\n",
    "        which(dimnames(tasmax)$date == format(date, \"%Y-%m-%d\"))\n",
    "    )\n",
    "}\n",
    "\n",
    "get_values_over_time_by_loc_ids <- function(lon_id, lat_id, start_date, end_date){\n",
    "    upper_date_bound_idx <- get_nearest_date_idx(start_date) # round right?\n",
    "    lower_date_bound_idx <- get_nearest_date_idx(end_date)\n",
    "    return(\n",
    "        tasmax[lon_id, lat_id, upper_date_bound_idx:lower_date_bound_idx]\n",
    "    )\n",
    "}\n",
    "\n",
    "get_chi_two_series <- function(x, y){\n",
    "    return(taildep(x, y, CHI_CUTOFF, type = CHI_TYPE))\n",
    "}"
   ]
  },
  {
   "cell_type": "markdown",
   "metadata": {},
   "source": [
    "Date specific stuff:"
   ]
  },
  {
   "cell_type": "code",
   "execution_count": 5,
   "metadata": {},
   "outputs": [],
   "source": [
    "filenames = c(\n",
    "    \"tasmax_rcp85_land-rcm_uk_12km-rll_01_day_20201201-20301130.nc\",\n",
    "    \"tasmax_rcp85_land-rcm_uk_12km-rll_01_day_20301201-20401130.nc\",\n",
    "    \"tasmax_rcp85_land-rcm_uk_12km-rll_01_day_20401201-20501130.nc\"\n",
    ")\n",
    "\n",
    "start_dates = c(\n",
    "    \"2020-12-01\",\n",
    "    \"2030-12-01\",\n",
    "    \"2040-12-01\"\n",
    ")\n",
    "\n",
    "end_dates = c(\n",
    "    \"2030-11-30\", \n",
    "    \"2040-11-30\",\n",
    "    \"2050-11-30\"\n",
    ")\n",
    "\n",
    "\n"
   ]
  },
  {
   "cell_type": "markdown",
   "metadata": {},
   "source": [
    "Main iteration:"
   ]
  },
  {
   "cell_type": "code",
   "execution_count": 6,
   "metadata": {},
   "outputs": [],
   "source": [
    "for(range_index in 1:3){\n",
    "    \n",
    "    fnm <- filenames[range_index]\n",
    "    start_date <- start_dates[range_index]\n",
    "    end_date <- end_dates[range_index]\n",
    "    \n",
    "    # File reading stuff\n",
    "    nc <- nc_open(fnm)\n",
    "    tasmax <- ncvar_get(nc, \"tasmax\")\n",
    "    dimnames(tasmax) <- list(\"rlon\" = ncvar_get(nc, \"grid_longitude\") - 360,\n",
    "                          \"rlat\" = ncvar_get(nc, \"grid_latitude\"),\n",
    "                          \"date\" = substr(nc.get.time.series(nc, \"tasmax\"),1,10))\n",
    "    nc_close(nc); remove(nc)\n",
    "    \n",
    "    # Main calculation-iterations\n",
    "    \n",
    "    all_chi_vals <- matrix(NA, dim(land_mask_ind)[1], dim(land_mask_ind)[1])\n",
    "\n",
    "    for(i in 1:dim(land_mask_ind)[1]){\n",
    "\n",
    "        base_lon_id = land_mask_ind[i, 1]\n",
    "        base_lat_id = land_mask_ind[i, 2]\n",
    "\n",
    "        base_loc_vals <- get_values_over_time_by_loc_ids(base_lon_id, base_lat_id, start_date, end_date)\n",
    "\n",
    "        chi_vals <- matrix(NA, dim(tasmax)[1], dim(tasmax)[2])\n",
    "\n",
    "        for(j in 1:dim(land_mask_ind)[1]){\n",
    "\n",
    "            comp_lon_id = land_mask_ind[j, 1]\n",
    "            comp_lat_id = land_mask_ind[j, 2]\n",
    "\n",
    "            comp_loc_vals <- get_values_over_time_by_loc_ids(comp_lon_id, comp_lat_id, start_date, end_date)\n",
    "\n",
    "            all_chi_vals[i,j] <- get_chi_two_series(base_loc_vals, comp_loc_vals)\n",
    "            #chi_vals[comp_lon_id, comp_lat_id] <- get_chi_two_series(base_loc_vals, comp_loc_vals)\n",
    "        }\n",
    "        #assign(paste(\"chi_vals\", base_lat_id, base_lon_id, sep = \"_\"), chi_vals)\n",
    "    }\n",
    "\n",
    "    write.table(all_chi_vals, file = paste0(\"~/chi_vals_\", start_date, \"_\", end_date, \".txt\"), row.names=FALSE, col.names=FALSE)\n",
    "    write.table(land_mask_ind, file = paste0(\"~/land_mask_ind_\", start_date, \"_\", end_date, \".txt\"))\n",
    "    write(dimnames(tasmax)$rlon, file = paste0(\"~/lon_coords_\", start_date, \"_\", end_date, \".txt\"))\n",
    "    write(dimnames(tasmax)$rlat, file = paste0(\"~/lat_coords_\", start_date, \"_\", end_date, \".txt\"))\n",
    "    \n",
    "}\n",
    "\n"
   ]
  },
  {
   "cell_type": "code",
   "execution_count": null,
   "metadata": {},
   "outputs": [],
   "source": []
  }
 ],
 "metadata": {
  "kernelspec": {
   "display_name": "R [conda env:geog0121-jupyter_japsy]",
   "language": "R",
   "name": "conda-env-geog0121-jupyter_japsy-r"
  },
  "language_info": {
   "codemirror_mode": "r",
   "file_extension": ".r",
   "mimetype": "text/x-r-source",
   "name": "R",
   "pygments_lexer": "r",
   "version": "4.0.2"
  }
 },
 "nbformat": 4,
 "nbformat_minor": 4
}
