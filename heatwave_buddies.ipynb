{
 "cells": [
  {
   "cell_type": "code",
   "execution_count": null,
   "metadata": {},
   "outputs": [
    {
     "name": "stdout",
     "output_type": "stream",
     "text": [
      "Running locally at: http://127.0.0.1:7861/\n",
      "To create a public link, set `share=True` in `launch()`.\n",
      "Interface loading below...\n"
     ]
    },
    {
     "data": {
      "text/html": [
       "\n",
       "        <iframe\n",
       "            width=\"900\"\n",
       "            height=\"500\"\n",
       "            src=\"http://127.0.0.1:7861/\"\n",
       "            frameborder=\"0\"\n",
       "            allowfullscreen\n",
       "        ></iframe>\n",
       "        "
      ],
      "text/plain": [
       "<IPython.lib.display.IFrame at 0x7f8af6a01b20>"
      ]
     },
     "metadata": {},
     "output_type": "display_data"
    },
    {
     "name": "stderr",
     "output_type": "stream",
     "text": [
      "[2021-06-04 12:01:03,406] ERROR in app: Exception on /api/predict/ [POST]\n",
      "Traceback (most recent call last):\n",
      "  File \"/home/anna/anaconda3/envs/hack/lib/python3.9/site-packages/geopy/geocoders/base.py\", line 360, in _call_geocoder\n",
      "    result = self.adapter.get_json(url, timeout=timeout, headers=req_headers)\n",
      "  File \"/home/anna/anaconda3/envs/hack/lib/python3.9/site-packages/geopy/adapters.py\", line 377, in get_json\n",
      "    resp = self._request(url, timeout=timeout, headers=headers)\n",
      "  File \"/home/anna/anaconda3/envs/hack/lib/python3.9/site-packages/geopy/adapters.py\", line 405, in _request\n",
      "    raise AdapterHTTPError(\n",
      "geopy.adapters.AdapterHTTPError: Non-successful status code 400\n",
      "\n",
      "The above exception was the direct cause of the following exception:\n",
      "\n",
      "Traceback (most recent call last):\n",
      "  File \"/home/anna/anaconda3/envs/hack/lib/python3.9/site-packages/flask/app.py\", line 2070, in wsgi_app\n",
      "    response = self.full_dispatch_request()\n",
      "  File \"/home/anna/anaconda3/envs/hack/lib/python3.9/site-packages/flask/app.py\", line 1515, in full_dispatch_request\n",
      "    rv = self.handle_user_exception(e)\n",
      "  File \"/home/anna/anaconda3/envs/hack/lib/python3.9/site-packages/flask_cors/extension.py\", line 165, in wrapped_function\n",
      "    return cors_after_request(app.make_response(f(*args, **kwargs)))\n",
      "  File \"/home/anna/anaconda3/envs/hack/lib/python3.9/site-packages/flask/app.py\", line 1513, in full_dispatch_request\n",
      "    rv = self.dispatch_request()\n",
      "  File \"/home/anna/anaconda3/envs/hack/lib/python3.9/site-packages/flask/app.py\", line 1499, in dispatch_request\n",
      "    return self.ensure_sync(self.view_functions[rule.endpoint])(**req.view_args)\n",
      "  File \"/home/anna/anaconda3/envs/hack/lib/python3.9/site-packages/gradio/networking.py\", line 89, in wrapper\n",
      "    return func(*args, **kwargs)\n",
      "  File \"/home/anna/anaconda3/envs/hack/lib/python3.9/site-packages/gradio/networking.py\", line 171, in predict\n",
      "    prediction, durations = app.interface.process(raw_input)\n",
      "  File \"/home/anna/anaconda3/envs/hack/lib/python3.9/site-packages/gradio/interface.py\", line 339, in process\n",
      "    predictions, durations = self.run_prediction(processed_input, return_duration=True)\n",
      "  File \"/home/anna/anaconda3/envs/hack/lib/python3.9/site-packages/gradio/interface.py\", line 312, in run_prediction\n",
      "    prediction = predict_fn(*processed_input)\n",
      "  File \"<ipython-input-1-3af6b510e74f>\", line 16, in generate_info\n",
      "    location = geolocator.geocode(address)\n",
      "  File \"/home/anna/anaconda3/envs/hack/lib/python3.9/site-packages/geopy/geocoders/opencage.py\", line 144, in geocode\n",
      "    return self._call_geocoder(url, callback, timeout=timeout)\n",
      "  File \"/home/anna/anaconda3/envs/hack/lib/python3.9/site-packages/geopy/geocoders/base.py\", line 378, in _call_geocoder\n",
      "    self._adapter_error_handler(error)\n",
      "  File \"/home/anna/anaconda3/envs/hack/lib/python3.9/site-packages/geopy/geocoders/base.py\", line 392, in _adapter_error_handler\n",
      "    raise exc_cls(str(error)) from error\n",
      "geopy.exc.GeocoderQueryError: Non-successful status code 400\n",
      "/home/anna/anaconda3/envs/hack/lib/python3.9/site-packages/cartopy/mpl/gridliner.py:307: UserWarning: The .xlabels_top attribute is deprecated. Please use .top_labels to toggle visibility instead.\n",
      "  warnings.warn('The .xlabels_top attribute is deprecated. Please '\n",
      "/home/anna/anaconda3/envs/hack/lib/python3.9/site-packages/cartopy/mpl/gridliner.py:343: UserWarning: The .ylabels_right attribute is deprecated. Please use .right_labels to toggle visibility instead.\n",
      "  warnings.warn('The .ylabels_right attribute is deprecated. Please '\n",
      "[2021-06-04 12:01:25,809] ERROR in app: Exception on /api/predict/ [POST]\n",
      "Traceback (most recent call last):\n",
      "  File \"/home/anna/anaconda3/envs/hack/lib/python3.9/site-packages/flask/app.py\", line 2070, in wsgi_app\n",
      "    response = self.full_dispatch_request()\n",
      "  File \"/home/anna/anaconda3/envs/hack/lib/python3.9/site-packages/flask/app.py\", line 1515, in full_dispatch_request\n",
      "    rv = self.handle_user_exception(e)\n",
      "  File \"/home/anna/anaconda3/envs/hack/lib/python3.9/site-packages/flask_cors/extension.py\", line 165, in wrapped_function\n",
      "    return cors_after_request(app.make_response(f(*args, **kwargs)))\n",
      "  File \"/home/anna/anaconda3/envs/hack/lib/python3.9/site-packages/flask/app.py\", line 1513, in full_dispatch_request\n",
      "    rv = self.dispatch_request()\n",
      "  File \"/home/anna/anaconda3/envs/hack/lib/python3.9/site-packages/flask/app.py\", line 1499, in dispatch_request\n",
      "    return self.ensure_sync(self.view_functions[rule.endpoint])(**req.view_args)\n",
      "  File \"/home/anna/anaconda3/envs/hack/lib/python3.9/site-packages/gradio/networking.py\", line 89, in wrapper\n",
      "    return func(*args, **kwargs)\n",
      "  File \"/home/anna/anaconda3/envs/hack/lib/python3.9/site-packages/gradio/networking.py\", line 171, in predict\n",
      "    prediction, durations = app.interface.process(raw_input)\n",
      "  File \"/home/anna/anaconda3/envs/hack/lib/python3.9/site-packages/gradio/interface.py\", line 340, in process\n",
      "    processed_output = [output_component.postprocess(\n",
      "  File \"/home/anna/anaconda3/envs/hack/lib/python3.9/site-packages/gradio/interface.py\", line 340, in <listcomp>\n",
      "    processed_output = [output_component.postprocess(\n",
      "  File \"/home/anna/anaconda3/envs/hack/lib/python3.9/site-packages/gradio/outputs.py\", line 183, in postprocess\n",
      "    raise ValueError(\"Unknown type. Please choose from: 'numpy', 'pil', 'file', 'plot'.\")\n",
      "ValueError: Unknown type. Please choose from: 'numpy', 'pil', 'file', 'plot'.\n"
     ]
    }
   ],
   "source": [
    "import gradio as gr\n",
    "import pandas as pd\n",
    "import regex as re\n",
    "import matplotlib.pyplot as plt\n",
    "import numpy as np\n",
    "from geopy.geocoders import OpenCage\n",
    "from geopy import distance\n",
    "from visualise import get_location_maps\n",
    "\n",
    "\n",
    "derotated_coords = pd.read_csv(\"derotated_coordinates.csv\")\n",
    "geolocator = OpenCage(\"f432f95234b041ab94a7e50292778841\")\n",
    "\n",
    "\n",
    "def generate_info(address):\n",
    "    location = geolocator.geocode(address)\n",
    "        \n",
    "    if location is not None:\n",
    "        lat = float(location.raw[\"geometry\"][\"lat\"])\n",
    "        lon = float(location.raw[\"geometry\"][\"lng\"])\n",
    "    else:\n",
    "        raise \"Invalid location\"\n",
    "\n",
    "    distances = []\n",
    "    for i in range(len(derotated_coords)):\n",
    "        distances.append(distance.distance((lon, lat), (derotated_coords.lon[i], derotated_coords.lat[i])))\n",
    "\n",
    "    min_ind = distances.index(min(distances))\n",
    "\n",
    "    min_lat, min_lon = derotated_coords.lat[min_ind], derotated_coords.lon[min_ind]\n",
    "    \n",
    "    # To code: get location maps and heatwave buddies\n",
    "    #map1, map2, map3 = get_location_maps(min_lat, min_lon)\n",
    "    #heatwave_buddies_postcodes = get_filtered_heatwave_buddies_with_chi(lat, lon)\n",
    "    # I need something now taking out the right array, finding the best chi-values, getting those and searching for everyone the geolocations + give those out that have geolocations.\n",
    "\n",
    "    fig1, fig2, fig3 = get_location_maps(min_lat, min_lon)\n",
    "\n",
    "    return fig1, fig2, fig3\n",
    "\n",
    "description_text = \"\"\"Heatwaves are going to become more frequent in climate change. Besides the frequency they might also change in size, duration, etc. With this interactive tool you can explore if the size of heatwaves is going to change in your region and find your heatwave buddies ♡: \n",
    "regions that will likely be subject to heatwaves simultaneously. The tool relies on the climate model UKCP18, whose predictions are used to compute the statistical quantity ― 𝜒 ― a conditional propability used to study co-ocurring extreme events, see: Coles, S., Heffernan, J. & Tawn, J. Dependence Measures for Extreme Value Analyses.\"\"\"\n",
    "\n",
    "\n",
    "iface = gr.Interface(\n",
    "    fn = generate_info, \n",
    "    inputs = \"text\", \n",
    "    outputs = [gr.outputs.Image(type = \"auto\"), gr.outputs.Image(type = \"auto\"), gr.outputs.Image(type = \"auto\")],\n",
    "    examples = [[\"SW1A 1AA\"], [\"2-6 Spottiswoode Rd\"], [\"Met Office, FitzRoy Road\"]],\n",
    "    #interpretation = \"default\",\n",
    "    title = \"Heatwave-buddies ♡\",\n",
    "    description = description_text\n",
    ")\n",
    "iface.launch(debug=True)\n"
   ]
  },
  {
   "cell_type": "code",
   "execution_count": null,
   "metadata": {},
   "outputs": [],
   "source": [
    "geolocator = OpenCage(\"f432f95234b041ab94a7e50292778841\")\n",
    "\n",
    "location = geolocator.geocode(\"SE17 3HR\")\n",
    "\n"
   ]
  },
  {
   "cell_type": "code",
   "execution_count": null,
   "metadata": {},
   "outputs": [],
   "source": []
  },
  {
   "cell_type": "markdown",
   "metadata": {},
   "source": [
    "Stuff not wrapped in function:"
   ]
  },
  {
   "cell_type": "code",
   "execution_count": null,
   "metadata": {},
   "outputs": [],
   "source": [
    "from geopy.geocoders import Nominatim\n",
    "from geopy import distance\n",
    "\n",
    "derotated_coords = pd.read_csv(\"derotated_coordinates.csv\")\n",
    "\n",
    "postcode = \"SE17 3HR\"\n",
    "\n",
    "geolocator = Nominatim(user_agent = \"test\")\n",
    "location = geolocator.geocode(postcode)\n",
    "\n",
    "if location is not None:\n",
    "    lat = float(location.raw[\"lat\"])\n",
    "    lon = float(location.raw[\"lon\"])\n",
    "else:\n",
    "    raise \"Invalid location\"\n",
    "\n",
    "distances = []\n",
    "for i in range(len(derotated_coords)):\n",
    "    distances.append(distance.distance((lon, lat), (derotated_coords.lon[i], derotated_coords.lat[i])))\n",
    "\n",
    "min_ind = distances.index(min(distances))\n",
    "\n",
    "min_lat, min_lon = derotated_coords.lat[min_ind], derotated_coords.lon[min_ind]\n"
   ]
  },
  {
   "cell_type": "markdown",
   "metadata": {},
   "source": [
    "Old stuff to extract postcodes for lat, lon"
   ]
  },
  {
   "cell_type": "code",
   "execution_count": null,
   "metadata": {},
   "outputs": [],
   "source": [
    "import numpy as np\n",
    "import pandas as pd\n",
    "import geopy"
   ]
  },
  {
   "cell_type": "code",
   "execution_count": null,
   "metadata": {},
   "outputs": [],
   "source": [
    "derotated_coords = pd.read_csv(\"derotated_coordinates.csv\")"
   ]
  },
  {
   "cell_type": "code",
   "execution_count": null,
   "metadata": {},
   "outputs": [],
   "source": [
    "postcode = [0]*len(derotated_coords)\n",
    "state = [0]*len(derotated_coords)\n",
    "city = [0]*len(derotated_coords)\n",
    "village = [0]*len(derotated_coords)"
   ]
  },
  {
   "cell_type": "code",
   "execution_count": null,
   "metadata": {},
   "outputs": [],
   "source": [
    "from geopy.geocoders import OpenCage\n",
    "\n",
    "geolocator = OpenCage(\"f432f95234b041ab94a7e50292778841\")\n",
    "\n",
    "for i in reversed(range(len(derotated_coords))):\n",
    "    if postcode[i] == 0:\n",
    "        try:\n",
    "            location = geolocator.reverse([derotated_coords.lat[i], derotated_coords.lon[i]])\n",
    "            if \"components\" in location.raw:\n",
    "                address = location.raw[\"components\"]\n",
    "\n",
    "                if \"postcode\" in address:\n",
    "                    postcode[i] = address[\"postcode\"]\n",
    "                if \"city\" in address:\n",
    "                    city[i] = address[\"city\"]\n",
    "                if \"state\" in address:\n",
    "                    state[i] = address[\"state\"]\n",
    "                if \"village\" in address:\n",
    "                    village[i] = address[\"village\"]\n",
    "        except:\n",
    "            pass\n",
    "            \n",
    "    \n",
    "\n"
   ]
  },
  {
   "cell_type": "code",
   "execution_count": null,
   "metadata": {},
   "outputs": [],
   "source": [
    "import regex as re\n",
    "regex_split = \"^(?:(?P<a1>[Gg][Ii][Rr])(?P<d1>) (?P<s1>0)(?P<u1>[Aa]{2}))|(?:(?:(?:(?P<a2>[A-Za-z])(?P<d2>[0-9]{1,2}))|(?:(?:(?P<a3>[A-Za-z][A-Ha-hJ-Yj-y])(?P<d3>[0-9]{1,2}))|(?:(?:(?P<a4>[A-Za-z])(?P<d4>[0-9][A-Za-z]))|(?:(?P<a5>[A-Za-z][A-Ha-hJ-Yj-y])(?P<d5>[0-9]?[A-Za-z]))))) (?P<s2>[0-9])(?P<u2>[A-Za-z]{2}))$\"\n",
    "\n",
    "\n",
    "first_part = [0]*len(derotated_coords)\n",
    "second_part = [0]*len(derotated_coords)\n",
    "end = [0]*len(derotated_coords)\n",
    "\n",
    "for i in range(len(postcode)):\n",
    "    code = postcode[i]\n",
    "    if code != 0:\n",
    "    \n",
    "        code_split = re.split(regex_split, code)\n",
    "        code_split = [x for x in code_split if x is not None]\n",
    "        code_split = [x for x in code_split if x != '']\n",
    "        if len(code_split) != 1:\n",
    "            first_part[i] = code_split[0]\n",
    "            second_part[i] = code_split[1]\n"
   ]
  },
  {
   "cell_type": "code",
   "execution_count": null,
   "metadata": {},
   "outputs": [],
   "source": [
    "derotated_coords[\"postcode\"] = postcode\n",
    "derotated_coords[\"city\"] = city\n",
    "derotated_coords[\"state\"] = state\n",
    "derotated_coords[\"village\"] = village\n",
    "\n",
    "derotated_coords[\"first_postcode_part\"] = first_part\n",
    "derotated_coords[\"second_postcode_part\"] = second_part"
   ]
  }
 ],
 "metadata": {
  "kernelspec": {
   "display_name": "Python 3",
   "language": "python",
   "name": "python3"
  },
  "language_info": {
   "codemirror_mode": {
    "name": "ipython",
    "version": 3
   },
   "file_extension": ".py",
   "mimetype": "text/x-python",
   "name": "python",
   "nbconvert_exporter": "python",
   "pygments_lexer": "ipython3",
   "version": "3.9.5"
  }
 },
 "nbformat": 4,
 "nbformat_minor": 4
}
