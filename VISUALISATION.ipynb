{
 "cells": [
  {
   "cell_type": "code",
   "execution_count": 1,
   "metadata": {},
   "outputs": [
    {
     "data": {
      "text/html": [
       "<div>\n",
       "<style scoped>\n",
       "    .dataframe tbody tr th:only-of-type {\n",
       "        vertical-align: middle;\n",
       "    }\n",
       "\n",
       "    .dataframe tbody tr th {\n",
       "        vertical-align: top;\n",
       "    }\n",
       "\n",
       "    .dataframe thead th {\n",
       "        text-align: right;\n",
       "    }\n",
       "</style>\n",
       "<table border=\"1\" class=\"dataframe\">\n",
       "  <thead>\n",
       "    <tr style=\"text-align: right;\">\n",
       "      <th></th>\n",
       "      <th>0</th>\n",
       "    </tr>\n",
       "  </thead>\n",
       "  <tbody>\n",
       "    <tr>\n",
       "      <th>0</th>\n",
       "      <td>-0.934999</td>\n",
       "    </tr>\n",
       "    <tr>\n",
       "      <th>1</th>\n",
       "      <td>-0.824999</td>\n",
       "    </tr>\n",
       "    <tr>\n",
       "      <th>2</th>\n",
       "      <td>-0.714998</td>\n",
       "    </tr>\n",
       "    <tr>\n",
       "      <th>3</th>\n",
       "      <td>-0.605000</td>\n",
       "    </tr>\n",
       "    <tr>\n",
       "      <th>4</th>\n",
       "      <td>-0.494999</td>\n",
       "    </tr>\n",
       "    <tr>\n",
       "      <th>...</th>\n",
       "      <td>...</td>\n",
       "    </tr>\n",
       "    <tr>\n",
       "      <th>123</th>\n",
       "      <td>12.595001</td>\n",
       "    </tr>\n",
       "    <tr>\n",
       "      <th>124</th>\n",
       "      <td>12.705002</td>\n",
       "    </tr>\n",
       "    <tr>\n",
       "      <th>125</th>\n",
       "      <td>12.815002</td>\n",
       "    </tr>\n",
       "    <tr>\n",
       "      <th>126</th>\n",
       "      <td>12.925003</td>\n",
       "    </tr>\n",
       "    <tr>\n",
       "      <th>127</th>\n",
       "      <td>13.035000</td>\n",
       "    </tr>\n",
       "  </tbody>\n",
       "</table>\n",
       "<p>128 rows × 1 columns</p>\n",
       "</div>"
      ],
      "text/plain": [
       "             0\n",
       "0    -0.934999\n",
       "1    -0.824999\n",
       "2    -0.714998\n",
       "3    -0.605000\n",
       "4    -0.494999\n",
       "..         ...\n",
       "123  12.595001\n",
       "124  12.705002\n",
       "125  12.815002\n",
       "126  12.925003\n",
       "127  13.035000\n",
       "\n",
       "[128 rows x 1 columns]"
      ]
     },
     "execution_count": 1,
     "metadata": {},
     "output_type": "execute_result"
    }
   ],
   "source": [
    "import numpy as np\n",
    "import xarray as xr\n",
    "import cartopy.crs as ccrs\n",
    "import pandas as pd\n",
    "\n",
    "# files\n",
    "chi_2020_2030_file = 'chi_vals_2020-12-01_2030-11-30.txt'\n",
    "land_mask_file = 'land_mask_ind_2020-12-01_2030-11-30.txt'\n",
    "rlat_file = 'lat_coords_2020-12-01_2030-11-30.txt'\n",
    "rlon_file = 'lon_coords_2020-12-01_2030-11-30.txt'\n",
    "\n",
    "land_mask = pd.read_csv(land_mask_file, delimiter=\" \")\n",
    "rlats = pd.read_csv(rlat_file, delimiter=\" \", header=None)\n",
    "rlons = pd.read_csv(rlon_file, delimiter=\" \", header=None)\n",
    "chi = pd.read_csv(chi_2020_2030_file, delimiter = \" \", header=None)\n",
    "#chi\n",
    "#land_mask\n",
    "rlats\n",
    "#rlons.head(20)"
   ]
  },
  {
   "cell_type": "code",
   "execution_count": 2,
   "metadata": {},
   "outputs": [],
   "source": [
    "# take all chi values for one reference point as an example\n",
    "all_corr = chi.iloc[0]\n",
    "# find the coordinates of this example point\n",
    "ref_rlat, ref_rlon = rlats.iloc[land_mask.iloc[0].row][0], rlons.iloc[land_mask.iloc[0].col][0]\n",
    "\n",
    "# find coordinates of each correlated point\n",
    "rlat_corr = []\n",
    "rlon_corr = []\n",
    "for i in range(all_corr.size):\n",
    "    rlat_corr.append(rlats.iloc[land_mask.iloc[i].col][0])\n",
    "    rlon_corr.append(rlons.iloc[land_mask.iloc[i].row][0])"
   ]
  },
  {
   "cell_type": "code",
   "execution_count": 3,
   "metadata": {},
   "outputs": [],
   "source": [
    "# transform from rotated to regular coordinates\n",
    "from transform_coordinates import unrotate_rll\n",
    "lats, lons = unrotate_rll(np.asarray(rlat_corr), np.asarray(rlon_corr))\n",
    "pd.DataFrame(data={'chi': all_corr, 'lat': lats, 'lons': lons}).to_csv('test.csv')"
   ]
  },
  {
   "cell_type": "code",
   "execution_count": 12,
   "metadata": {},
   "outputs": [
    {
     "data": {
      "text/plain": [
       "lat        lon      \n",
       "49.286571  -1.958907    1.000000\n",
       "49.392650  -2.003581    0.866667\n",
       "49.545760  -2.420388    0.872222\n",
       "50.924787   0.393959    0.766667\n",
       "50.789611  -1.168894    0.766667\n",
       "                          ...   \n",
       "60.577351  -1.159222    0.372222\n",
       "60.683587  -1.217399    0.361111\n",
       "60.711479  -1.004356    0.400000\n",
       "60.845438  -0.848436    0.394444\n",
       "61.695104  -6.779161    0.383333\n",
       "Length: 2064, dtype: float64"
      ]
     },
     "execution_count": 12,
     "metadata": {},
     "output_type": "execute_result"
    }
   ],
   "source": [
    "# convert to xarray for neat coordinate visualisation\n",
    "idx = pd.MultiIndex.from_arrays(arrays=[lats,lons], names=[\"lat\",\"lon\"])\n",
    "s = pd.Series(data=all_corr.tolist(), index=idx)\n",
    "# use from_series method\n",
    "da = xr.DataArray.from_series(s)"
   ]
  },
  {
   "cell_type": "code",
   "execution_count": null,
   "metadata": {},
   "outputs": [],
   "source": [
    "# TODO: ready to be plotted on simple map"
   ]
  }
 ],
 "metadata": {
  "kernelspec": {
   "display_name": "Python 3",
   "language": "python",
   "name": "python3"
  },
  "language_info": {
   "codemirror_mode": {
    "name": "ipython",
    "version": 3
   },
   "file_extension": ".py",
   "mimetype": "text/x-python",
   "name": "python",
   "nbconvert_exporter": "python",
   "pygments_lexer": "ipython3",
   "version": "3.9.2"
  }
 },
 "nbformat": 4,
 "nbformat_minor": 4
}
