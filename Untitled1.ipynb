{
 "cells": [
  {
   "cell_type": "code",
   "execution_count": 64,
   "metadata": {},
   "outputs": [],
   "source": [
    "library(ncdf4) # package for netcdf manipulation\n",
    "library(raster) # package for raster manipulation\n",
    "library(rgdal) # package for geospatial analysis\n",
    "library(ggplot2) # package for plotting"
   ]
  },
  {
   "cell_type": "code",
   "execution_count": 65,
   "metadata": {},
   "outputs": [],
   "source": [
    "nc_data <- nc_open('UKCP18/ukcp-other/extremal-dependence-data/tasmax_rcp85_land-rcm_uk_12km-rll_01_day_19801201-19901130.nc')"
   ]
  },
  {
   "cell_type": "code",
   "execution_count": 66,
   "metadata": {},
   "outputs": [
    {
     "data": {
      "text/html": [
       "<style>\n",
       ".list-inline {list-style: none; margin:0; padding: 0}\n",
       ".list-inline>li {display: inline-block}\n",
       ".list-inline>li:not(:last-child)::after {content: \"\\00b7\"; padding: 0 .5ex}\n",
       "</style>\n",
       "<ol class=list-inline><li>341.744995117188</li><li>341.85498046875</li><li>341.964996337891</li><li>342.074981689453</li><li>342.184997558594</li><li>342.294982910156</li></ol>\n"
      ],
      "text/latex": [
       "\\begin{enumerate*}\n",
       "\\item 341.744995117188\n",
       "\\item 341.85498046875\n",
       "\\item 341.964996337891\n",
       "\\item 342.074981689453\n",
       "\\item 342.184997558594\n",
       "\\item 342.294982910156\n",
       "\\end{enumerate*}\n"
      ],
      "text/markdown": [
       "1. 341.744995117188\n",
       "2. 341.85498046875\n",
       "3. 341.964996337891\n",
       "4. 342.074981689453\n",
       "5. 342.184997558594\n",
       "6. 342.294982910156\n",
       "\n",
       "\n"
      ],
      "text/plain": [
       "[1] 341.745 341.855 341.965 342.075 342.185 342.295"
      ]
     },
     "metadata": {},
     "output_type": "display_data"
    }
   ],
   "source": [
    "lon <- ncvar_get(nc_data, \"grid_longitude\")\n",
    "lat <- ncvar_get(nc_data, \"grid_latitude\", verbose = F)\n",
    "t <- ncvar_get(nc_data, \"time\")\n",
    "#tasmaxt <- ncvar_get(nc_data, \"tasmax\")\n",
    "\n",
    "head(lon) # look at the first few entries in the longitude vector"
   ]
  },
  {
   "cell_type": "code",
   "execution_count": 67,
   "metadata": {},
   "outputs": [
    {
     "data": {
      "text/html": [
       "<style>\n",
       ".list-inline {list-style: none; margin:0; padding: 0}\n",
       ".list-inline>li {display: inline-block}\n",
       ".list-inline>li:not(:last-child)::after {content: \"\\00b7\"; padding: 0 .5ex}\n",
       "</style>\n",
       "<ol class=list-inline><li>-0.934999465942383</li><li>-0.82499885559082</li><li>-0.714998245239258</li><li>-0.604999542236328</li><li>-0.494998931884766</li><li>-0.384998321533203</li></ol>\n"
      ],
      "text/latex": [
       "\\begin{enumerate*}\n",
       "\\item -0.934999465942383\n",
       "\\item -0.82499885559082\n",
       "\\item -0.714998245239258\n",
       "\\item -0.604999542236328\n",
       "\\item -0.494998931884766\n",
       "\\item -0.384998321533203\n",
       "\\end{enumerate*}\n"
      ],
      "text/markdown": [
       "1. -0.934999465942383\n",
       "2. -0.82499885559082\n",
       "3. -0.714998245239258\n",
       "4. -0.604999542236328\n",
       "5. -0.494998931884766\n",
       "6. -0.384998321533203\n",
       "\n",
       "\n"
      ],
      "text/plain": [
       "[1] -0.9349995 -0.8249989 -0.7149982 -0.6049995 -0.4949989 -0.3849983"
      ]
     },
     "metadata": {},
     "output_type": "display_data"
    }
   ],
   "source": [
    "head(lat)"
   ]
  },
  {
   "cell_type": "code",
   "execution_count": 72,
   "metadata": {},
   "outputs": [
    {
     "name": "stdout",
     "output_type": "stream",
     "text": [
      "  [1] 342 342 342 342 342 342 342 343 343 343 343 343 343 343 343 343 344 344\n",
      " [19] 344 344 344 344 344 344 344 344 345 345 345 345 345 345 345 345 345 346\n",
      " [37] 346 346 346 346 346 346 346 346 347 347 347 347 347 347 347 347 347 348\n",
      " [55] 348 348 348 348 348 348 348 348 349 349 349 349 349 349 349 349 349 350\n",
      " [73] 350 350 350 350 350 350 350 350 351 351 351 351 351 351 351 351 351 352\n",
      " [91] 352 352 352 352 352 352 352 352 353 353 353 353 353 353 353 353 353 354\n"
     ]
    }
   ],
   "source": [
    "print(lon,lat)"
   ]
  },
  {
   "cell_type": "code",
   "execution_count": 5,
   "metadata": {},
   "outputs": [
    {
     "data": {
      "text/html": [
       "<style>\n",
       ".list-inline {list-style: none; margin:0; padding: 0}\n",
       ".list-inline>li {display: inline-block}\n",
       ".list-inline>li:not(:last-child)::after {content: \"\\00b7\"; padding: 0 .5ex}\n",
       "</style>\n",
       "<ol class=list-inline><li>108</li><li>128</li><li>3600</li></ol>\n"
      ],
      "text/latex": [
       "\\begin{enumerate*}\n",
       "\\item 108\n",
       "\\item 128\n",
       "\\item 3600\n",
       "\\end{enumerate*}\n"
      ],
      "text/markdown": [
       "1. 108\n",
       "2. 128\n",
       "3. 3600\n",
       "\n",
       "\n"
      ],
      "text/plain": [
       "[1]  108  128 3600"
      ]
     },
     "metadata": {},
     "output_type": "display_data"
    }
   ],
   "source": [
    "tasmax.array <- ncvar_get(nc_data, \"tasmax\") # store the data in a 3-dimensional array\n",
    "dim(tasmax.array) "
   ]
  },
  {
   "cell_type": "code",
   "execution_count": 7,
   "metadata": {},
   "outputs": [],
   "source": [
    "nc_close(nc_data) "
   ]
  },
  {
   "cell_type": "code",
   "execution_count": 8,
   "metadata": {},
   "outputs": [],
   "source": [
    "tasmax.array[tasmax.array == fillvalue$value] <- NA"
   ]
  },
  {
   "cell_type": "code",
   "execution_count": 9,
   "metadata": {},
   "outputs": [],
   "source": [
    "tasmax.slice <- tasmax.array[, , 1] "
   ]
  },
  {
   "cell_type": "code",
   "execution_count": 10,
   "metadata": {},
   "outputs": [
    {
     "data": {
      "text/html": [
       "<style>\n",
       ".list-inline {list-style: none; margin:0; padding: 0}\n",
       ".list-inline>li {display: inline-block}\n",
       ".list-inline>li:not(:last-child)::after {content: \"\\00b7\"; padding: 0 .5ex}\n",
       "</style>\n",
       "<ol class=list-inline><li>108</li><li>128</li></ol>\n"
      ],
      "text/latex": [
       "\\begin{enumerate*}\n",
       "\\item 108\n",
       "\\item 128\n",
       "\\end{enumerate*}\n"
      ],
      "text/markdown": [
       "1. 108\n",
       "2. 128\n",
       "\n",
       "\n"
      ],
      "text/plain": [
       "[1] 108 128"
      ]
     },
     "metadata": {},
     "output_type": "display_data"
    }
   ],
   "source": [
    "dim(tasmax.slice)"
   ]
  },
  {
   "cell_type": "code",
   "execution_count": 53,
   "metadata": {},
   "outputs": [],
   "source": [
    "r <- raster(t(tasmax.slice), xmn=min(lon), xmx=max(lon), ymn=min(lat), ymx=max(lat), crs=CRS(\"+proj=longlat +ellps=WGS84 +datum=WGS84\"))"
   ]
  },
  {
   "cell_type": "code",
   "execution_count": 54,
   "metadata": {},
   "outputs": [],
   "source": [
    "r <- flip(r, direction='y')"
   ]
  },
  {
   "cell_type": "code",
   "execution_count": 55,
   "metadata": {},
   "outputs": [
    {
     "data": {
      "image/png": "[encoded data removed]",
      "text/plain": [
       "Plot with title “”"
      ]
     },
     "metadata": {
      "image/png": {
       "height": 420,
       "width": 420
      }
     },
     "output_type": "display_data"
    }
   ],
   "source": [
    "plot(r)\n"
   ]
  },
  {
   "cell_type": "code",
   "execution_count": 21,
   "metadata": {},
   "outputs": [],
   "source": [
    "r_brick <- brick(tasmax.array, xmn=min(lat), xmx=max(lat), ymn=min(lon), ymx=max(lon), crs=CRS(\"+proj=longlat +ellps=WGS84 +datum=WGS84\"))\n",
    "\n",
    "# note that you may have to play around with the transpose (the t() function) and flip() before the data are oriented correctly. In this example, the netcdf file recorded latitude on the X and longitude on the Y, so both a transpose and a flip in the y direction were required.\n",
    "r_brick <- flip(t(r_brick), direction='y')"
   ]
  },
  {
   "cell_type": "code",
   "execution_count": 42,
   "metadata": {},
   "outputs": [
    {
     "data": {
      "text/html": [
       "<table class=\"dataframe\">\n",
       "<caption>A matrix: 20 × 3600 of type dbl</caption>\n",
       "<thead>\n",
       "\t<tr><th scope=col>layer.1</th><th scope=col>layer.2</th><th scope=col>layer.3</th><th scope=col>layer.4</th><th scope=col>layer.5</th><th scope=col>layer.6</th><th scope=col>layer.7</th><th scope=col>layer.8</th><th scope=col>layer.9</th><th scope=col>layer.10</th><th scope=col>⋯</th><th scope=col>layer.3591</th><th scope=col>layer.3592</th><th scope=col>layer.3593</th><th scope=col>layer.3594</th><th scope=col>layer.3595</th><th scope=col>layer.3596</th><th scope=col>layer.3597</th><th scope=col>layer.3598</th><th scope=col>layer.3599</th><th scope=col>layer.3600</th></tr>\n",
       "</thead>\n",
       "<tbody>\n",
       "\t<tr><td>6.088769</td><td>6.306055</td><td>7.810449</td><td>9.453028</td><td>10.036036</td><td>7.576807</td><td>5.269433</td><td>5.013086</td><td>5.323389</td><td>5.467432</td><td>⋯</td><td>9.035303</td><td>9.809717</td><td>11.44595</td><td>11.96597</td><td>7.592187</td><td>7.278955</td><td>6.928125</td><td>7.053857</td><td>7.077295</td><td>7.551416</td></tr>\n",
       "\t<tr><td>6.077783</td><td>6.378320</td><td>7.774805</td><td>9.414209</td><td>10.029444</td><td>7.613672</td><td>5.269189</td><td>5.067041</td><td>5.398828</td><td>5.491601</td><td>⋯</td><td>9.056299</td><td>9.698389</td><td>11.48208</td><td>11.99795</td><td>7.607812</td><td>7.369531</td><td>7.039209</td><td>7.042871</td><td>7.094629</td><td>7.605371</td></tr>\n",
       "\t<tr><td>6.080225</td><td>6.422998</td><td>7.721826</td><td>9.392481</td><td>10.006739</td><td>7.633203</td><td>5.199365</td><td>5.030420</td><td>5.473047</td><td>5.379541</td><td>⋯</td><td>9.092432</td><td>9.669092</td><td>11.50845</td><td>12.04336</td><td>7.633935</td><td>7.411279</td><td>7.279932</td><td>7.204492</td><td>7.089502</td><td>7.442041</td></tr>\n",
       "\t<tr><td>5.865625</td><td>6.395898</td><td>7.681299</td><td>9.365870</td><td> 9.981592</td><td>7.642969</td><td>5.101221</td><td>4.936426</td><td>5.398340</td><td>5.238183</td><td>⋯</td><td>9.132959</td><td>9.679346</td><td>11.56362</td><td>12.07217</td><td>7.649072</td><td>7.401758</td><td>7.284326</td><td>7.207910</td><td>7.177392</td><td>7.382471</td></tr>\n",
       "\t<tr><td>5.679101</td><td>6.282861</td><td>7.658838</td><td>9.319971</td><td> 9.950098</td><td>7.664209</td><td>4.952051</td><td>4.891260</td><td>5.327295</td><td>5.038476</td><td>⋯</td><td>9.153467</td><td>9.700342</td><td>11.59439</td><td>12.09170</td><td>7.652978</td><td>7.326074</td><td>7.320459</td><td>6.595850</td><td>7.148340</td><td>7.247217</td></tr>\n",
       "\t<tr><td>5.918603</td><td>6.329980</td><td>7.634668</td><td>9.298731</td><td> 9.911280</td><td>7.690576</td><td>5.176416</td><td>4.872949</td><td>5.244775</td><td>4.945215</td><td>⋯</td><td>9.150293</td><td>9.707666</td><td>11.56021</td><td>12.11196</td><td>7.667139</td><td>7.266016</td><td>7.337305</td><td>6.629785</td><td>7.106836</td><td>7.306055</td></tr>\n",
       "\t<tr><td>5.941308</td><td>6.400049</td><td>7.481348</td><td>9.270166</td><td> 9.880762</td><td>7.704248</td><td>5.254053</td><td>4.903467</td><td>5.140527</td><td>4.905176</td><td>⋯</td><td>9.141748</td><td>9.717188</td><td>11.54653</td><td>12.13613</td><td>7.636377</td><td>7.292383</td><td>7.322900</td><td>6.918848</td><td>7.106348</td><td>7.336572</td></tr>\n",
       "\t<tr><td>5.937891</td><td>6.365137</td><td>7.464014</td><td>9.186182</td><td> 9.857569</td><td>7.719873</td><td>5.229883</td><td>4.962060</td><td>5.125879</td><td>5.123193</td><td>⋯</td><td>9.141748</td><td>9.727442</td><td>11.52529</td><td>12.14224</td><td>7.648828</td><td>7.340234</td><td>7.323389</td><td>6.943262</td><td>7.087305</td><td>7.216943</td></tr>\n",
       "\t<tr><td>5.674707</td><td>6.403223</td><td>7.325342</td><td>8.812403</td><td> 9.834620</td><td>7.770410</td><td>5.213037</td><td>4.971338</td><td>5.218164</td><td>5.207666</td><td>⋯</td><td>9.166162</td><td>9.738184</td><td>11.51626</td><td>12.14248</td><td>7.663476</td><td>7.414941</td><td>7.266260</td><td>6.881250</td><td>6.888574</td><td>7.187158</td></tr>\n",
       "\t<tr><td>5.704248</td><td>6.397851</td><td>7.293603</td><td>8.414698</td><td> 9.817774</td><td>7.814600</td><td>5.205225</td><td>4.955957</td><td>5.184473</td><td>5.142236</td><td>⋯</td><td>9.188868</td><td>9.739405</td><td>11.46621</td><td>12.09805</td><td>7.677881</td><td>7.455957</td><td>7.128808</td><td>6.800928</td><td>6.741113</td><td>7.133203</td></tr>\n",
       "\t<tr><td>6.163965</td><td>6.454248</td><td>7.842676</td><td>9.474268</td><td>10.151514</td><td>7.589502</td><td>5.441308</td><td>5.118799</td><td>5.268701</td><td>5.538721</td><td>⋯</td><td>9.149561</td><td>9.890772</td><td>11.55679</td><td>12.08779</td><td>7.681543</td><td>7.258691</td><td>6.951074</td><td>7.114160</td><td>7.199121</td><td>7.661523</td></tr>\n",
       "\t<tr><td>6.169092</td><td>6.412256</td><td>7.916406</td><td>9.475245</td><td>10.178370</td><td>7.639062</td><td>5.490869</td><td>5.079736</td><td>5.412988</td><td>5.597314</td><td>⋯</td><td>9.157618</td><td>9.871241</td><td>11.57754</td><td>12.10903</td><td>7.719385</td><td>7.324853</td><td>7.032373</td><td>7.041650</td><td>7.197656</td><td>7.727930</td></tr>\n",
       "\t<tr><td>6.152978</td><td>6.481103</td><td>7.816797</td><td>9.454004</td><td>10.173243</td><td>7.661279</td><td>5.495019</td><td>5.132959</td><td>5.555566</td><td>5.558740</td><td>⋯</td><td>9.182276</td><td>9.887110</td><td>11.60879</td><td>12.13833</td><td>7.760644</td><td>7.414697</td><td>7.187646</td><td>7.337549</td><td>7.204248</td><td>7.546777</td></tr>\n",
       "\t<tr><td>5.981103</td><td>6.489160</td><td>7.768457</td><td>9.452051</td><td>10.156153</td><td>7.679101</td><td>5.456933</td><td>5.093408</td><td>5.500879</td><td>5.378076</td><td>⋯</td><td>9.219629</td><td>9.876368</td><td>11.63711</td><td>12.16152</td><td>7.872461</td><td>7.487207</td><td>7.255517</td><td>7.284570</td><td>7.261133</td><td>7.459131</td></tr>\n",
       "\t<tr><td>5.819482</td><td>6.379541</td><td>7.805566</td><td>9.438623</td><td>10.134424</td><td>7.714990</td><td>5.386621</td><td>4.992090</td><td>5.406885</td><td>5.208887</td><td>⋯</td><td>9.234522</td><td>9.787012</td><td>11.63320</td><td>12.17739</td><td>7.769433</td><td>7.502344</td><td>7.343408</td><td>7.035058</td><td>7.219873</td><td>7.342432</td></tr>\n",
       "\t<tr><td>6.058740</td><td>6.413965</td><td>7.744775</td><td>9.449366</td><td>10.105860</td><td>7.730371</td><td>5.543359</td><td>4.964014</td><td>5.349756</td><td>5.082178</td><td>⋯</td><td>9.234278</td><td>9.781153</td><td>11.61001</td><td>12.16250</td><td>7.763574</td><td>7.483545</td><td>7.377100</td><td>6.550195</td><td>7.180322</td><td>7.411523</td></tr>\n",
       "\t<tr><td>6.079980</td><td>6.508203</td><td>7.632715</td><td>9.421045</td><td>10.071680</td><td>7.746484</td><td>5.526514</td><td>4.968896</td><td>5.271142</td><td>5.002588</td><td>⋯</td><td>9.227442</td><td>9.781153</td><td>11.58853</td><td>12.16030</td><td>7.765771</td><td>7.421533</td><td>7.376611</td><td>6.759180</td><td>7.140771</td><td>7.365869</td></tr>\n",
       "\t<tr><td>6.021631</td><td>6.456445</td><td>7.508935</td><td>9.345118</td><td>10.043848</td><td>7.748682</td><td>5.487207</td><td>5.013818</td><td>5.151025</td><td>5.035791</td><td>⋯</td><td>9.218409</td><td>9.779688</td><td>11.56411</td><td>12.16201</td><td>7.762598</td><td>7.386377</td><td>7.402734</td><td>6.949365</td><td>6.990869</td><td>7.231592</td></tr>\n",
       "\t<tr><td>5.795801</td><td>6.466943</td><td>7.516260</td><td>8.953028</td><td>10.014063</td><td>7.732812</td><td>5.471094</td><td>5.068017</td><td>5.243310</td><td>5.272363</td><td>⋯</td><td>9.213282</td><td>9.777979</td><td>11.53481</td><td>12.14785</td><td>7.758935</td><td>7.384668</td><td>7.376367</td><td>6.932275</td><td>6.873193</td><td>7.272607</td></tr>\n",
       "\t<tr><td>5.811670</td><td>6.477685</td><td>7.414941</td><td>8.537745</td><td> 9.987452</td><td>7.767725</td><td>5.473047</td><td>5.085351</td><td>5.286035</td><td>5.272851</td><td>⋯</td><td>9.223047</td><td>9.779688</td><td>11.48550</td><td>12.10977</td><td>7.724023</td><td>7.368555</td><td>7.227197</td><td>6.862451</td><td>6.759424</td><td>7.306787</td></tr>\n",
       "</tbody>\n",
       "</table>\n"
      ],
      "text/latex": [
       "A matrix: 20 × 3600 of type dbl\n",
       "\\begin{tabular}{lllllllllllllllllllll}\n",
       " layer.1 & layer.2 & layer.3 & layer.4 & layer.5 & layer.6 & layer.7 & layer.8 & layer.9 & layer.10 & ⋯ & layer.3591 & layer.3592 & layer.3593 & layer.3594 & layer.3595 & layer.3596 & layer.3597 & layer.3598 & layer.3599 & layer.3600\\\\\n",
       "\\hline\n",
       "\t 6.088769 & 6.306055 & 7.810449 & 9.453028 & 10.036036 & 7.576807 & 5.269433 & 5.013086 & 5.323389 & 5.467432 & ⋯ & 9.035303 & 9.809717 & 11.44595 & 11.96597 & 7.592187 & 7.278955 & 6.928125 & 7.053857 & 7.077295 & 7.551416\\\\\n",
       "\t 6.077783 & 6.378320 & 7.774805 & 9.414209 & 10.029444 & 7.613672 & 5.269189 & 5.067041 & 5.398828 & 5.491601 & ⋯ & 9.056299 & 9.698389 & 11.48208 & 11.99795 & 7.607812 & 7.369531 & 7.039209 & 7.042871 & 7.094629 & 7.605371\\\\\n",
       "\t 6.080225 & 6.422998 & 7.721826 & 9.392481 & 10.006739 & 7.633203 & 5.199365 & 5.030420 & 5.473047 & 5.379541 & ⋯ & 9.092432 & 9.669092 & 11.50845 & 12.04336 & 7.633935 & 7.411279 & 7.279932 & 7.204492 & 7.089502 & 7.442041\\\\\n",
       "\t 5.865625 & 6.395898 & 7.681299 & 9.365870 &  9.981592 & 7.642969 & 5.101221 & 4.936426 & 5.398340 & 5.238183 & ⋯ & 9.132959 & 9.679346 & 11.56362 & 12.07217 & 7.649072 & 7.401758 & 7.284326 & 7.207910 & 7.177392 & 7.382471\\\\\n",
       "\t 5.679101 & 6.282861 & 7.658838 & 9.319971 &  9.950098 & 7.664209 & 4.952051 & 4.891260 & 5.327295 & 5.038476 & ⋯ & 9.153467 & 9.700342 & 11.59439 & 12.09170 & 7.652978 & 7.326074 & 7.320459 & 6.595850 & 7.148340 & 7.247217\\\\\n",
       "\t 5.918603 & 6.329980 & 7.634668 & 9.298731 &  9.911280 & 7.690576 & 5.176416 & 4.872949 & 5.244775 & 4.945215 & ⋯ & 9.150293 & 9.707666 & 11.56021 & 12.11196 & 7.667139 & 7.266016 & 7.337305 & 6.629785 & 7.106836 & 7.306055\\\\\n",
       "\t 5.941308 & 6.400049 & 7.481348 & 9.270166 &  9.880762 & 7.704248 & 5.254053 & 4.903467 & 5.140527 & 4.905176 & ⋯ & 9.141748 & 9.717188 & 11.54653 & 12.13613 & 7.636377 & 7.292383 & 7.322900 & 6.918848 & 7.106348 & 7.336572\\\\\n",
       "\t 5.937891 & 6.365137 & 7.464014 & 9.186182 &  9.857569 & 7.719873 & 5.229883 & 4.962060 & 5.125879 & 5.123193 & ⋯ & 9.141748 & 9.727442 & 11.52529 & 12.14224 & 7.648828 & 7.340234 & 7.323389 & 6.943262 & 7.087305 & 7.216943\\\\\n",
       "\t 5.674707 & 6.403223 & 7.325342 & 8.812403 &  9.834620 & 7.770410 & 5.213037 & 4.971338 & 5.218164 & 5.207666 & ⋯ & 9.166162 & 9.738184 & 11.51626 & 12.14248 & 7.663476 & 7.414941 & 7.266260 & 6.881250 & 6.888574 & 7.187158\\\\\n",
       "\t 5.704248 & 6.397851 & 7.293603 & 8.414698 &  9.817774 & 7.814600 & 5.205225 & 4.955957 & 5.184473 & 5.142236 & ⋯ & 9.188868 & 9.739405 & 11.46621 & 12.09805 & 7.677881 & 7.455957 & 7.128808 & 6.800928 & 6.741113 & 7.133203\\\\\n",
       "\t 6.163965 & 6.454248 & 7.842676 & 9.474268 & 10.151514 & 7.589502 & 5.441308 & 5.118799 & 5.268701 & 5.538721 & ⋯ & 9.149561 & 9.890772 & 11.55679 & 12.08779 & 7.681543 & 7.258691 & 6.951074 & 7.114160 & 7.199121 & 7.661523\\\\\n",
       "\t 6.169092 & 6.412256 & 7.916406 & 9.475245 & 10.178370 & 7.639062 & 5.490869 & 5.079736 & 5.412988 & 5.597314 & ⋯ & 9.157618 & 9.871241 & 11.57754 & 12.10903 & 7.719385 & 7.324853 & 7.032373 & 7.041650 & 7.197656 & 7.727930\\\\\n",
       "\t 6.152978 & 6.481103 & 7.816797 & 9.454004 & 10.173243 & 7.661279 & 5.495019 & 5.132959 & 5.555566 & 5.558740 & ⋯ & 9.182276 & 9.887110 & 11.60879 & 12.13833 & 7.760644 & 7.414697 & 7.187646 & 7.337549 & 7.204248 & 7.546777\\\\\n",
       "\t 5.981103 & 6.489160 & 7.768457 & 9.452051 & 10.156153 & 7.679101 & 5.456933 & 5.093408 & 5.500879 & 5.378076 & ⋯ & 9.219629 & 9.876368 & 11.63711 & 12.16152 & 7.872461 & 7.487207 & 7.255517 & 7.284570 & 7.261133 & 7.459131\\\\\n",
       "\t 5.819482 & 6.379541 & 7.805566 & 9.438623 & 10.134424 & 7.714990 & 5.386621 & 4.992090 & 5.406885 & 5.208887 & ⋯ & 9.234522 & 9.787012 & 11.63320 & 12.17739 & 7.769433 & 7.502344 & 7.343408 & 7.035058 & 7.219873 & 7.342432\\\\\n",
       "\t 6.058740 & 6.413965 & 7.744775 & 9.449366 & 10.105860 & 7.730371 & 5.543359 & 4.964014 & 5.349756 & 5.082178 & ⋯ & 9.234278 & 9.781153 & 11.61001 & 12.16250 & 7.763574 & 7.483545 & 7.377100 & 6.550195 & 7.180322 & 7.411523\\\\\n",
       "\t 6.079980 & 6.508203 & 7.632715 & 9.421045 & 10.071680 & 7.746484 & 5.526514 & 4.968896 & 5.271142 & 5.002588 & ⋯ & 9.227442 & 9.781153 & 11.58853 & 12.16030 & 7.765771 & 7.421533 & 7.376611 & 6.759180 & 7.140771 & 7.365869\\\\\n",
       "\t 6.021631 & 6.456445 & 7.508935 & 9.345118 & 10.043848 & 7.748682 & 5.487207 & 5.013818 & 5.151025 & 5.035791 & ⋯ & 9.218409 & 9.779688 & 11.56411 & 12.16201 & 7.762598 & 7.386377 & 7.402734 & 6.949365 & 6.990869 & 7.231592\\\\\n",
       "\t 5.795801 & 6.466943 & 7.516260 & 8.953028 & 10.014063 & 7.732812 & 5.471094 & 5.068017 & 5.243310 & 5.272363 & ⋯ & 9.213282 & 9.777979 & 11.53481 & 12.14785 & 7.758935 & 7.384668 & 7.376367 & 6.932275 & 6.873193 & 7.272607\\\\\n",
       "\t 5.811670 & 6.477685 & 7.414941 & 8.537745 &  9.987452 & 7.767725 & 5.473047 & 5.085351 & 5.286035 & 5.272851 & ⋯ & 9.223047 & 9.779688 & 11.48550 & 12.10977 & 7.724023 & 7.368555 & 7.227197 & 6.862451 & 6.759424 & 7.306787\\\\\n",
       "\\end{tabular}\n"
      ],
      "text/markdown": [
       "\n",
       "A matrix: 20 × 3600 of type dbl\n",
       "\n",
       "| layer.1 | layer.2 | layer.3 | layer.4 | layer.5 | layer.6 | layer.7 | layer.8 | layer.9 | layer.10 | ⋯ | layer.3591 | layer.3592 | layer.3593 | layer.3594 | layer.3595 | layer.3596 | layer.3597 | layer.3598 | layer.3599 | layer.3600 |\n",
       "|---|---|---|---|---|---|---|---|---|---|---|---|---|---|---|---|---|---|---|---|---|\n",
       "| 6.088769 | 6.306055 | 7.810449 | 9.453028 | 10.036036 | 7.576807 | 5.269433 | 5.013086 | 5.323389 | 5.467432 | ⋯ | 9.035303 | 9.809717 | 11.44595 | 11.96597 | 7.592187 | 7.278955 | 6.928125 | 7.053857 | 7.077295 | 7.551416 |\n",
       "| 6.077783 | 6.378320 | 7.774805 | 9.414209 | 10.029444 | 7.613672 | 5.269189 | 5.067041 | 5.398828 | 5.491601 | ⋯ | 9.056299 | 9.698389 | 11.48208 | 11.99795 | 7.607812 | 7.369531 | 7.039209 | 7.042871 | 7.094629 | 7.605371 |\n",
       "| 6.080225 | 6.422998 | 7.721826 | 9.392481 | 10.006739 | 7.633203 | 5.199365 | 5.030420 | 5.473047 | 5.379541 | ⋯ | 9.092432 | 9.669092 | 11.50845 | 12.04336 | 7.633935 | 7.411279 | 7.279932 | 7.204492 | 7.089502 | 7.442041 |\n",
       "| 5.865625 | 6.395898 | 7.681299 | 9.365870 |  9.981592 | 7.642969 | 5.101221 | 4.936426 | 5.398340 | 5.238183 | ⋯ | 9.132959 | 9.679346 | 11.56362 | 12.07217 | 7.649072 | 7.401758 | 7.284326 | 7.207910 | 7.177392 | 7.382471 |\n",
       "| 5.679101 | 6.282861 | 7.658838 | 9.319971 |  9.950098 | 7.664209 | 4.952051 | 4.891260 | 5.327295 | 5.038476 | ⋯ | 9.153467 | 9.700342 | 11.59439 | 12.09170 | 7.652978 | 7.326074 | 7.320459 | 6.595850 | 7.148340 | 7.247217 |\n",
       "| 5.918603 | 6.329980 | 7.634668 | 9.298731 |  9.911280 | 7.690576 | 5.176416 | 4.872949 | 5.244775 | 4.945215 | ⋯ | 9.150293 | 9.707666 | 11.56021 | 12.11196 | 7.667139 | 7.266016 | 7.337305 | 6.629785 | 7.106836 | 7.306055 |\n",
       "| 5.941308 | 6.400049 | 7.481348 | 9.270166 |  9.880762 | 7.704248 | 5.254053 | 4.903467 | 5.140527 | 4.905176 | ⋯ | 9.141748 | 9.717188 | 11.54653 | 12.13613 | 7.636377 | 7.292383 | 7.322900 | 6.918848 | 7.106348 | 7.336572 |\n",
       "| 5.937891 | 6.365137 | 7.464014 | 9.186182 |  9.857569 | 7.719873 | 5.229883 | 4.962060 | 5.125879 | 5.123193 | ⋯ | 9.141748 | 9.727442 | 11.52529 | 12.14224 | 7.648828 | 7.340234 | 7.323389 | 6.943262 | 7.087305 | 7.216943 |\n",
       "| 5.674707 | 6.403223 | 7.325342 | 8.812403 |  9.834620 | 7.770410 | 5.213037 | 4.971338 | 5.218164 | 5.207666 | ⋯ | 9.166162 | 9.738184 | 11.51626 | 12.14248 | 7.663476 | 7.414941 | 7.266260 | 6.881250 | 6.888574 | 7.187158 |\n",
       "| 5.704248 | 6.397851 | 7.293603 | 8.414698 |  9.817774 | 7.814600 | 5.205225 | 4.955957 | 5.184473 | 5.142236 | ⋯ | 9.188868 | 9.739405 | 11.46621 | 12.09805 | 7.677881 | 7.455957 | 7.128808 | 6.800928 | 6.741113 | 7.133203 |\n",
       "| 6.163965 | 6.454248 | 7.842676 | 9.474268 | 10.151514 | 7.589502 | 5.441308 | 5.118799 | 5.268701 | 5.538721 | ⋯ | 9.149561 | 9.890772 | 11.55679 | 12.08779 | 7.681543 | 7.258691 | 6.951074 | 7.114160 | 7.199121 | 7.661523 |\n",
       "| 6.169092 | 6.412256 | 7.916406 | 9.475245 | 10.178370 | 7.639062 | 5.490869 | 5.079736 | 5.412988 | 5.597314 | ⋯ | 9.157618 | 9.871241 | 11.57754 | 12.10903 | 7.719385 | 7.324853 | 7.032373 | 7.041650 | 7.197656 | 7.727930 |\n",
       "| 6.152978 | 6.481103 | 7.816797 | 9.454004 | 10.173243 | 7.661279 | 5.495019 | 5.132959 | 5.555566 | 5.558740 | ⋯ | 9.182276 | 9.887110 | 11.60879 | 12.13833 | 7.760644 | 7.414697 | 7.187646 | 7.337549 | 7.204248 | 7.546777 |\n",
       "| 5.981103 | 6.489160 | 7.768457 | 9.452051 | 10.156153 | 7.679101 | 5.456933 | 5.093408 | 5.500879 | 5.378076 | ⋯ | 9.219629 | 9.876368 | 11.63711 | 12.16152 | 7.872461 | 7.487207 | 7.255517 | 7.284570 | 7.261133 | 7.459131 |\n",
       "| 5.819482 | 6.379541 | 7.805566 | 9.438623 | 10.134424 | 7.714990 | 5.386621 | 4.992090 | 5.406885 | 5.208887 | ⋯ | 9.234522 | 9.787012 | 11.63320 | 12.17739 | 7.769433 | 7.502344 | 7.343408 | 7.035058 | 7.219873 | 7.342432 |\n",
       "| 6.058740 | 6.413965 | 7.744775 | 9.449366 | 10.105860 | 7.730371 | 5.543359 | 4.964014 | 5.349756 | 5.082178 | ⋯ | 9.234278 | 9.781153 | 11.61001 | 12.16250 | 7.763574 | 7.483545 | 7.377100 | 6.550195 | 7.180322 | 7.411523 |\n",
       "| 6.079980 | 6.508203 | 7.632715 | 9.421045 | 10.071680 | 7.746484 | 5.526514 | 4.968896 | 5.271142 | 5.002588 | ⋯ | 9.227442 | 9.781153 | 11.58853 | 12.16030 | 7.765771 | 7.421533 | 7.376611 | 6.759180 | 7.140771 | 7.365869 |\n",
       "| 6.021631 | 6.456445 | 7.508935 | 9.345118 | 10.043848 | 7.748682 | 5.487207 | 5.013818 | 5.151025 | 5.035791 | ⋯ | 9.218409 | 9.779688 | 11.56411 | 12.16201 | 7.762598 | 7.386377 | 7.402734 | 6.949365 | 6.990869 | 7.231592 |\n",
       "| 5.795801 | 6.466943 | 7.516260 | 8.953028 | 10.014063 | 7.732812 | 5.471094 | 5.068017 | 5.243310 | 5.272363 | ⋯ | 9.213282 | 9.777979 | 11.53481 | 12.14785 | 7.758935 | 7.384668 | 7.376367 | 6.932275 | 6.873193 | 7.272607 |\n",
       "| 5.811670 | 6.477685 | 7.414941 | 8.537745 |  9.987452 | 7.767725 | 5.473047 | 5.085351 | 5.286035 | 5.272851 | ⋯ | 9.223047 | 9.779688 | 11.48550 | 12.10977 | 7.724023 | 7.368555 | 7.227197 | 6.862451 | 6.759424 | 7.306787 |\n",
       "\n"
      ],
      "text/plain": [
       "      layer.1  layer.2  layer.3  layer.4  layer.5   layer.6  layer.7  layer.8 \n",
       " [1,] 6.088769 6.306055 7.810449 9.453028 10.036036 7.576807 5.269433 5.013086\n",
       " [2,] 6.077783 6.378320 7.774805 9.414209 10.029444 7.613672 5.269189 5.067041\n",
       " [3,] 6.080225 6.422998 7.721826 9.392481 10.006739 7.633203 5.199365 5.030420\n",
       " [4,] 5.865625 6.395898 7.681299 9.365870  9.981592 7.642969 5.101221 4.936426\n",
       " [5,] 5.679101 6.282861 7.658838 9.319971  9.950098 7.664209 4.952051 4.891260\n",
       " [6,] 5.918603 6.329980 7.634668 9.298731  9.911280 7.690576 5.176416 4.872949\n",
       " [7,] 5.941308 6.400049 7.481348 9.270166  9.880762 7.704248 5.254053 4.903467\n",
       " [8,] 5.937891 6.365137 7.464014 9.186182  9.857569 7.719873 5.229883 4.962060\n",
       " [9,] 5.674707 6.403223 7.325342 8.812403  9.834620 7.770410 5.213037 4.971338\n",
       "[10,] 5.704248 6.397851 7.293603 8.414698  9.817774 7.814600 5.205225 4.955957\n",
       "[11,] 6.163965 6.454248 7.842676 9.474268 10.151514 7.589502 5.441308 5.118799\n",
       "[12,] 6.169092 6.412256 7.916406 9.475245 10.178370 7.639062 5.490869 5.079736\n",
       "[13,] 6.152978 6.481103 7.816797 9.454004 10.173243 7.661279 5.495019 5.132959\n",
       "[14,] 5.981103 6.489160 7.768457 9.452051 10.156153 7.679101 5.456933 5.093408\n",
       "[15,] 5.819482 6.379541 7.805566 9.438623 10.134424 7.714990 5.386621 4.992090\n",
       "[16,] 6.058740 6.413965 7.744775 9.449366 10.105860 7.730371 5.543359 4.964014\n",
       "[17,] 6.079980 6.508203 7.632715 9.421045 10.071680 7.746484 5.526514 4.968896\n",
       "[18,] 6.021631 6.456445 7.508935 9.345118 10.043848 7.748682 5.487207 5.013818\n",
       "[19,] 5.795801 6.466943 7.516260 8.953028 10.014063 7.732812 5.471094 5.068017\n",
       "[20,] 5.811670 6.477685 7.414941 8.537745  9.987452 7.767725 5.473047 5.085351\n",
       "      layer.9  layer.10 ⋯ layer.3591 layer.3592 layer.3593 layer.3594\n",
       " [1,] 5.323389 5.467432 ⋯ 9.035303   9.809717   11.44595   11.96597  \n",
       " [2,] 5.398828 5.491601 ⋯ 9.056299   9.698389   11.48208   11.99795  \n",
       " [3,] 5.473047 5.379541 ⋯ 9.092432   9.669092   11.50845   12.04336  \n",
       " [4,] 5.398340 5.238183 ⋯ 9.132959   9.679346   11.56362   12.07217  \n",
       " [5,] 5.327295 5.038476 ⋯ 9.153467   9.700342   11.59439   12.09170  \n",
       " [6,] 5.244775 4.945215 ⋯ 9.150293   9.707666   11.56021   12.11196  \n",
       " [7,] 5.140527 4.905176 ⋯ 9.141748   9.717188   11.54653   12.13613  \n",
       " [8,] 5.125879 5.123193 ⋯ 9.141748   9.727442   11.52529   12.14224  \n",
       " [9,] 5.218164 5.207666 ⋯ 9.166162   9.738184   11.51626   12.14248  \n",
       "[10,] 5.184473 5.142236 ⋯ 9.188868   9.739405   11.46621   12.09805  \n",
       "[11,] 5.268701 5.538721 ⋯ 9.149561   9.890772   11.55679   12.08779  \n",
       "[12,] 5.412988 5.597314 ⋯ 9.157618   9.871241   11.57754   12.10903  \n",
       "[13,] 5.555566 5.558740 ⋯ 9.182276   9.887110   11.60879   12.13833  \n",
       "[14,] 5.500879 5.378076 ⋯ 9.219629   9.876368   11.63711   12.16152  \n",
       "[15,] 5.406885 5.208887 ⋯ 9.234522   9.787012   11.63320   12.17739  \n",
       "[16,] 5.349756 5.082178 ⋯ 9.234278   9.781153   11.61001   12.16250  \n",
       "[17,] 5.271142 5.002588 ⋯ 9.227442   9.781153   11.58853   12.16030  \n",
       "[18,] 5.151025 5.035791 ⋯ 9.218409   9.779688   11.56411   12.16201  \n",
       "[19,] 5.243310 5.272363 ⋯ 9.213282   9.777979   11.53481   12.14785  \n",
       "[20,] 5.286035 5.272851 ⋯ 9.223047   9.779688   11.48550   12.10977  \n",
       "      layer.3595 layer.3596 layer.3597 layer.3598 layer.3599 layer.3600\n",
       " [1,] 7.592187   7.278955   6.928125   7.053857   7.077295   7.551416  \n",
       " [2,] 7.607812   7.369531   7.039209   7.042871   7.094629   7.605371  \n",
       " [3,] 7.633935   7.411279   7.279932   7.204492   7.089502   7.442041  \n",
       " [4,] 7.649072   7.401758   7.284326   7.207910   7.177392   7.382471  \n",
       " [5,] 7.652978   7.326074   7.320459   6.595850   7.148340   7.247217  \n",
       " [6,] 7.667139   7.266016   7.337305   6.629785   7.106836   7.306055  \n",
       " [7,] 7.636377   7.292383   7.322900   6.918848   7.106348   7.336572  \n",
       " [8,] 7.648828   7.340234   7.323389   6.943262   7.087305   7.216943  \n",
       " [9,] 7.663476   7.414941   7.266260   6.881250   6.888574   7.187158  \n",
       "[10,] 7.677881   7.455957   7.128808   6.800928   6.741113   7.133203  \n",
       "[11,] 7.681543   7.258691   6.951074   7.114160   7.199121   7.661523  \n",
       "[12,] 7.719385   7.324853   7.032373   7.041650   7.197656   7.727930  \n",
       "[13,] 7.760644   7.414697   7.187646   7.337549   7.204248   7.546777  \n",
       "[14,] 7.872461   7.487207   7.255517   7.284570   7.261133   7.459131  \n",
       "[15,] 7.769433   7.502344   7.343408   7.035058   7.219873   7.342432  \n",
       "[16,] 7.763574   7.483545   7.377100   6.550195   7.180322   7.411523  \n",
       "[17,] 7.765771   7.421533   7.376611   6.759180   7.140771   7.365869  \n",
       "[18,] 7.762598   7.386377   7.402734   6.949365   6.990869   7.231592  \n",
       "[19,] 7.758935   7.384668   7.376367   6.932275   6.873193   7.272607  \n",
       "[20,] 7.724023   7.368555   7.227197   6.862451   6.759424   7.306787  "
      ]
     },
     "metadata": {},
     "output_type": "display_data"
    }
   ],
   "source": [
    "head(r_brick)"
   ]
  },
  {
   "cell_type": "code",
   "execution_count": null,
   "metadata": {},
   "outputs": [],
   "source": []
  },
  {
   "cell_type": "code",
   "execution_count": 57,
   "metadata": {},
   "outputs": [],
   "source": [
    "toolik_lon <- -0.934999465942383\n",
    "toolik_lat <- 341.744995117188\n",
    "toolik_series <- extract(r_brick, SpatialPoints(cbind(toolik_lon,toolik_lat)), method='simple')"
   ]
  },
  {
   "cell_type": "code",
   "execution_count": 62,
   "metadata": {},
   "outputs": [
    {
     "name": "stderr",
     "output_type": "stream",
     "text": [
      "Warning message:\n",
      "“Removed 3600 row(s) containing missing values (geom_path).”\n"
     ]
    },
    {
     "data": {
      "text/plain": [
       "<ScaleContinuousPosition>\n",
       " Range:  \n",
       " Limits:    1 -- 3.6e+03"
      ]
     },
     "metadata": {},
     "output_type": "display_data"
    },
    {
     "data": {
      "image/png": "[encoded data removed]",
      "text/plain": [
       "plot without title"
      ]
     },
     "metadata": {
      "image/png": {
       "height": 420,
       "width": 420
      }
     },
     "output_type": "display_data"
    }
   ],
   "source": [
    "toolik_df <- data.frame(year= seq(from=1981, to=1990, by=1.0), tasmax=t(toolik_series))\n",
    "ggplot(data=toolik_df, aes(x=year, y=tasmax, group=2)) +\n",
    "  geom_line() + # make this a line plot\n",
    "  ggtitle(\"Tasmax at UCL\") +     # Set title\n",
    "  theme_bw() # use the black and white theme\n",
    "scale_x_continuous(limits = c(1, 3600))"
   ]
  },
  {
   "cell_type": "code",
   "execution_count": null,
   "metadata": {},
   "outputs": [],
   "source": []
  },
  {
   "cell_type": "code",
   "execution_count": null,
   "metadata": {},
   "outputs": [],
   "source": []
  }
 ],
 "metadata": {
  "kernelspec": {
   "display_name": "R [conda env:geog0121-jupyter_japsy]",
   "language": "R",
   "name": "conda-env-geog0121-jupyter_japsy-r"
  },
  "language_info": {
   "codemirror_mode": "r",
   "file_extension": ".r",
   "mimetype": "text/x-r-source",
   "name": "R",
   "pygments_lexer": "r",
   "version": "4.0.2"
  }
 },
 "nbformat": 4,
 "nbformat_minor": 4
}
